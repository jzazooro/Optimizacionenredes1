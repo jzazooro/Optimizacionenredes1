{
 "cells": [
  {
   "cell_type": "code",
   "execution_count": 8,
   "metadata": {},
   "outputs": [
    {
     "name": "stdout",
     "output_type": "stream",
     "text": [
      "hay CODE;PRODUCTO;TIPO_CARROCERIA;COMBUSTIBLE;Potencia_;TRANS;FORMA_PAGO;ESTADO_CIVIL;GENERO;OcupaciOn;PROVINCIA;Campanna1;Campanna2;Campanna3;Zona _Renta;REV_Garantia;Averia_grave;QUEJA_CAC;COSTE_VENTA;km_anno;Revisiones;Edad Cliente    0\n",
      "dtype: int64 datos incompletos\n"
     ]
    }
   ],
   "source": [
    "import pandas as pd\n",
    "\n",
    "# Cargar el csv\n",
    "file_path = 'cars_input.csv'\n",
    "data = pd.read_csv(file_path)"
   ]
  },
  {
   "cell_type": "code",
   "execution_count": 9,
   "metadata": {},
   "outputs": [
    {
     "name": "stdout",
     "output_type": "stream",
     "text": [
      "hay CODE;PRODUCTO;TIPO_CARROCERIA;COMBUSTIBLE;Potencia_;TRANS;FORMA_PAGO;ESTADO_CIVIL;GENERO;OcupaciOn;PROVINCIA;Campanna1;Campanna2;Campanna3;Zona _Renta;REV_Garantia;Averia_grave;QUEJA_CAC;COSTE_VENTA;km_anno;Revisiones;Edad Cliente    0\n",
      "dtype: int64 datos incompletos\n"
     ]
    }
   ],
   "source": [
    "# Verificar datos faltantes\n",
    "missing_data = data.isnull().sum()\n",
    "print(\"hay\", missing_data, \"datos incompletos\")"
   ]
  }
 ],
 "metadata": {
  "kernelspec": {
   "display_name": "Python 3",
   "language": "python",
   "name": "python3"
  },
  "language_info": {
   "codemirror_mode": {
    "name": "ipython",
    "version": 3
   },
   "file_extension": ".py",
   "mimetype": "text/x-python",
   "name": "python",
   "nbconvert_exporter": "python",
   "pygments_lexer": "ipython3",
   "version": "3.10.11"
  }
 },
 "nbformat": 4,
 "nbformat_minor": 2
}
