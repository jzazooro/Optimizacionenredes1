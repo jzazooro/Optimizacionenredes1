{
 "cells": [
  {
   "cell_type": "code",
   "execution_count": 11,
   "metadata": {},
   "outputs": [],
   "source": [
    "import pandas as pd\n",
    "import seaborn as sns\n",
    "import matplotlib.pyplot as plt\n",
    "from sklearn.preprocessing import OneHotEncoder"
   ]
  },
  {
   "cell_type": "code",
   "execution_count": 16,
   "metadata": {},
   "outputs": [
    {
     "data": {
      "text/html": [
       "<div>\n",
       "<style scoped>\n",
       "    .dataframe tbody tr th:only-of-type {\n",
       "        vertical-align: middle;\n",
       "    }\n",
       "\n",
       "    .dataframe tbody tr th {\n",
       "        vertical-align: top;\n",
       "    }\n",
       "\n",
       "    .dataframe thead th {\n",
       "        text-align: right;\n",
       "    }\n",
       "</style>\n",
       "<table border=\"1\" class=\"dataframe\">\n",
       "  <thead>\n",
       "    <tr style=\"text-align: right;\">\n",
       "      <th></th>\n",
       "      <th>CODE;PRODUCTO;TIPO_CARROCERIA;COMBUSTIBLE;Potencia_;TRANS;FORMA_PAGO;ESTADO_CIVIL;GENERO;OcupaciOn;PROVINCIA;Campanna1;Campanna2;Campanna3;Zona _Renta;REV_Garantia;Averia_grave;QUEJA_CAC;COSTE_VENTA;km_anno;Revisiones;Edad Cliente</th>\n",
       "    </tr>\n",
       "  </thead>\n",
       "  <tbody>\n",
       "    <tr>\n",
       "      <th>0</th>\n",
       "      <td>CLIN1;A;TIPO1;FUEL 1;Baja;M;Contado;CASADO;M;E...</td>\n",
       "    </tr>\n",
       "    <tr>\n",
       "      <th>1</th>\n",
       "      <td>CLIN2;A;TIPO1;FUEL 1;Baja;M;Contado;CASADO;F;E...</td>\n",
       "    </tr>\n",
       "    <tr>\n",
       "      <th>2</th>\n",
       "      <td>CLIN3;A;TIPO1;FUEL 1;Baja;M;Otros;CASADO;M;Emp...</td>\n",
       "    </tr>\n",
       "    <tr>\n",
       "      <th>3</th>\n",
       "      <td>CLIN4;A;TIPO1;FUEL 1;Baja;M;Financiera Marca;C...</td>\n",
       "    </tr>\n",
       "    <tr>\n",
       "      <th>4</th>\n",
       "      <td>CLIN5;A;TIPO1;FUEL 1;Baja;M;Financiera Marca;C...</td>\n",
       "    </tr>\n",
       "  </tbody>\n",
       "</table>\n",
       "</div>"
      ],
      "text/plain": [
       "  CODE;PRODUCTO;TIPO_CARROCERIA;COMBUSTIBLE;Potencia_;TRANS;FORMA_PAGO;ESTADO_CIVIL;GENERO;OcupaciOn;PROVINCIA;Campanna1;Campanna2;Campanna3;Zona _Renta;REV_Garantia;Averia_grave;QUEJA_CAC;COSTE_VENTA;km_anno;Revisiones;Edad Cliente\n",
       "0  CLIN1;A;TIPO1;FUEL 1;Baja;M;Contado;CASADO;M;E...                                                                                                                                                                                    \n",
       "1  CLIN2;A;TIPO1;FUEL 1;Baja;M;Contado;CASADO;F;E...                                                                                                                                                                                    \n",
       "2  CLIN3;A;TIPO1;FUEL 1;Baja;M;Otros;CASADO;M;Emp...                                                                                                                                                                                    \n",
       "3  CLIN4;A;TIPO1;FUEL 1;Baja;M;Financiera Marca;C...                                                                                                                                                                                    \n",
       "4  CLIN5;A;TIPO1;FUEL 1;Baja;M;Financiera Marca;C...                                                                                                                                                                                    "
      ]
     },
     "execution_count": 16,
     "metadata": {},
     "output_type": "execute_result"
    }
   ],
   "source": [
    "# Cargar el csv\n",
    "file_path = 'cars_input.csv'\n",
    "df = pd.read_csv(file_path)\n",
    "df.head()"
   ]
  },
  {
   "cell_type": "code",
   "execution_count": 24,
   "metadata": {},
   "outputs": [
    {
     "data": {
      "text/plain": [
       "RangeIndex(start=0, stop=23230, step=1)"
      ]
     },
     "execution_count": 24,
     "metadata": {},
     "output_type": "execute_result"
    }
   ],
   "source": [
    "df.index"
   ]
  },
  {
   "cell_type": "code",
   "execution_count": 13,
   "metadata": {},
   "outputs": [
    {
     "name": "stdout",
     "output_type": "stream",
     "text": [
      "hay CODE;PRODUCTO;TIPO_CARROCERIA;COMBUSTIBLE;Potencia_;TRANS;FORMA_PAGO;ESTADO_CIVIL;GENERO;OcupaciOn;PROVINCIA;Campanna1;Campanna2;Campanna3;Zona _Renta;REV_Garantia;Averia_grave;QUEJA_CAC;COSTE_VENTA;km_anno;Revisiones;Edad Cliente    0\n",
      "dtype: int64 datos incompletos\n"
     ]
    }
   ],
   "source": [
    "# Paso 1 : Seleccionar las columnas categóricas\n",
    "categorical_columns = [\n",
    "    'PRODUCTO', 'TIPO_CARROCERIA', 'COMBUSTIBLE', 'Potencia_', 'TRANS', 'FORMA_PAGO',\n",
    "    'ESTADO_CIVIL', 'GENERO', 'OcupaciOn', 'PROVINCIA', 'Campanna1', 'Campanna2', \n",
    "    'Campanna3', 'Zona _Renta', 'REV_Garantia', 'Averia_grave', 'QUEJA_CAC'\n",
    "]"
   ]
  },
  {
   "cell_type": "code",
   "execution_count": 17,
   "metadata": {},
   "outputs": [],
   "source": [
    "# Paso 2: \n",
    "\n",
    "# Paso 3: Aplicar OneHotEncoder\n",
    "encoder = OneHotEncoder(sparse_output=False)\n",
    "encoded_data = encoder.fit_transform(df[categorical_columns])\n",
    "\n",
    "# Crear un DataFrame con los resultados del encoding\n",
    "encoded_df = pd.DataFrame(encoded_data, columns=encoder.get_feature_names_out(categorical_columns))\n",
    "\n",
    "# Combinar los datos originales con los codificados\n",
    "df_encoded = pd.concat([df.drop(columns=categorical_columns), encoded_df], axis=1)\n",
    "\n",
    "# Mostrar el resultado\n",
    "import ace_tools as tools; tools.display_dataframe_to_user(name=\"Datos Codificados\", dataframe=df_encoded)\n"
   ]
  },
  {
   "cell_type": "code",
   "execution_count": 22,
   "metadata": {},
   "outputs": [
    {
     "data": {
      "text/plain": [
       "CODE;PRODUCTO;TIPO_CARROCERIA;COMBUSTIBLE;Potencia_;TRANS;FORMA_PAGO;ESTADO_CIVIL;GENERO;OcupaciOn;PROVINCIA;Campanna1;Campanna2;Campanna3;Zona _Renta;REV_Garantia;Averia_grave;QUEJA_CAC;COSTE_VENTA;km_anno;Revisiones;Edad Cliente_CLIN10000;B;TIPO6;FUEL 2;Media;M;Contado;CASADO;M;Empresa;Barcelona;NO;SI;NO;NA;NO DATA;No;NO;1422;17376;4;40                       1\n",
       "CODE;PRODUCTO;TIPO_CARROCERIA;COMBUSTIBLE;Potencia_;TRANS;FORMA_PAGO;ESTADO_CIVIL;GENERO;OcupaciOn;PROVINCIA;Campanna1;Campanna2;Campanna3;Zona _Renta;REV_Garantia;Averia_grave;QUEJA_CAC;COSTE_VENTA;km_anno;Revisiones;Edad Cliente_CLIN3037;I;TIPO7;FUEL 2;Media;M;Otros;SOLTERO;M;Empresa;Madrid;SI;NO;NO;Alto;SI;Averia grave;NO;2131;12159;2;47                     1\n",
       "CODE;PRODUCTO;TIPO_CARROCERIA;COMBUSTIBLE;Potencia_;TRANS;FORMA_PAGO;ESTADO_CIVIL;GENERO;OcupaciOn;PROVINCIA;Campanna1;Campanna2;Campanna3;Zona _Renta;REV_Garantia;Averia_grave;QUEJA_CAC;COSTE_VENTA;km_anno;Revisiones;Edad Cliente_CLIN3035;I;TIPO7;FUEL 2;Media;M;Otros;CASADO;M;Empresa;Vizcaya;NO;NO;NO;NA;SI;Averia muy grave;SI;2131;13005;4;44                   1\n",
       "CODE;PRODUCTO;TIPO_CARROCERIA;COMBUSTIBLE;Potencia_;TRANS;FORMA_PAGO;ESTADO_CIVIL;GENERO;OcupaciOn;PROVINCIA;Campanna1;Campanna2;Campanna3;Zona _Renta;REV_Garantia;Averia_grave;QUEJA_CAC;COSTE_VENTA;km_anno;Revisiones;Edad Cliente_CLIN3034;I;TIPO7;FUEL 2;Media;M;Financiera Marca;CASADO;M;Empresa;Cantabria;SI;NO;NO;Alto;SI;Averia muy grave;SI;3135;19655;2;58    1\n",
       "CODE;PRODUCTO;TIPO_CARROCERIA;COMBUSTIBLE;Potencia_;TRANS;FORMA_PAGO;ESTADO_CIVIL;GENERO;OcupaciOn;PROVINCIA;Campanna1;Campanna2;Campanna3;Zona _Renta;REV_Garantia;Averia_grave;QUEJA_CAC;COSTE_VENTA;km_anno;Revisiones;Edad Cliente_CLIN3033;I;TIPO7;FUEL 2;Media;M;Financiera Marca;SOLTERO;M;Funcionario;Vizcaya;SI;NO;NO;Alto;SI;No;NO;3347;20133;2;62               1\n",
       "                                                                                                                                                                                                                                                                                                                                                                          ..\n",
       "CODE;PRODUCTO;TIPO_CARROCERIA;COMBUSTIBLE;Potencia_;TRANS;FORMA_PAGO;ESTADO_CIVIL;GENERO;OcupaciOn;PROVINCIA;Campanna1;Campanna2;Campanna3;Zona _Renta;REV_Garantia;Averia_grave;QUEJA_CAC;COSTE_VENTA;km_anno;Revisiones;Edad Cliente_CLIN16970;C;TIPO4;FUEL 1;Media;M;Financiera Marca;CASADO;M;Empresa;Alava;SI;NO;NO;Medio-Bajo;SI;No;NO;6661;13394;1;52               1\n",
       "CODE;PRODUCTO;TIPO_CARROCERIA;COMBUSTIBLE;Potencia_;TRANS;FORMA_PAGO;ESTADO_CIVIL;GENERO;OcupaciOn;PROVINCIA;Campanna1;Campanna2;Campanna3;Zona _Renta;REV_Garantia;Averia_grave;QUEJA_CAC;COSTE_VENTA;km_anno;Revisiones;Edad Cliente_CLIN1696;B;TIPO6;FUEL 2;Media;M;Otros;CASADO;F;Empresa;Cadiz;NO;NO;NO;Otros;SI;Averia muy grave;SI;3489;6661;8;59                   1\n",
       "CODE;PRODUCTO;TIPO_CARROCERIA;COMBUSTIBLE;Potencia_;TRANS;FORMA_PAGO;ESTADO_CIVIL;GENERO;OcupaciOn;PROVINCIA;Campanna1;Campanna2;Campanna3;Zona _Renta;REV_Garantia;Averia_grave;QUEJA_CAC;COSTE_VENTA;km_anno;Revisiones;Edad Cliente_CLIN16969;C;TIPO4;FUEL 1;Media;M;Financiera Marca;CASADO;M;Empresa;Lacoruna;SI;NO;NO;Medio;SI;No;NO;6871;9211;2;54                  1\n",
       "CODE;PRODUCTO;TIPO_CARROCERIA;COMBUSTIBLE;Potencia_;TRANS;FORMA_PAGO;ESTADO_CIVIL;GENERO;OcupaciOn;PROVINCIA;Campanna1;Campanna2;Campanna3;Zona _Renta;REV_Garantia;Averia_grave;QUEJA_CAC;COSTE_VENTA;km_anno;Revisiones;Edad Cliente_CLIN16968;C;TIPO4;FUEL 1;Media;M;Contado;CASADO;F;Empresa;Vizcaya;NO;SI;NO;NA;SI;Averia muy grave;SI;5655;7748;2;58                 1\n",
       "CODE;PRODUCTO;TIPO_CARROCERIA;COMBUSTIBLE;Potencia_;TRANS;FORMA_PAGO;ESTADO_CIVIL;GENERO;OcupaciOn;PROVINCIA;Campanna1;Campanna2;Campanna3;Zona _Renta;REV_Garantia;Averia_grave;QUEJA_CAC;COSTE_VENTA;km_anno;Revisiones;Edad Cliente_CLIN9;A;TIPO1;FUEL 1;Baja;M;Contado;CASADO;M;Empresa;Madrid;NO;NO;NO;Alto;NO DATA;Averia muy grave;SI;1541;0;1;21                   1\n",
       "Name: count, Length: 23230, dtype: int64"
      ]
     },
     "execution_count": 22,
     "metadata": {},
     "output_type": "execute_result"
    }
   ],
   "source": []
  },
  {
   "cell_type": "code",
   "execution_count": null,
   "metadata": {},
   "outputs": [],
   "source": []
  },
  {
   "cell_type": "code",
   "execution_count": 15,
   "metadata": {},
   "outputs": [
    {
     "ename": "ValueError",
     "evalue": "zero-size array to reduction operation fmin which has no identity",
     "output_type": "error",
     "traceback": [
      "\u001b[1;31m---------------------------------------------------------------------------\u001b[0m",
      "\u001b[1;31mValueError\u001b[0m                                Traceback (most recent call last)",
      "Cell \u001b[1;32mIn[15], line 12\u001b[0m\n\u001b[0;32m     10\u001b[0m \u001b[38;5;66;03m# Visualizar el mapa de correlación usando seaborn\u001b[39;00m\n\u001b[0;32m     11\u001b[0m plt\u001b[38;5;241m.\u001b[39mfigure(figsize\u001b[38;5;241m=\u001b[39m(\u001b[38;5;241m10\u001b[39m, \u001b[38;5;241m8\u001b[39m))\n\u001b[1;32m---> 12\u001b[0m \u001b[43msns\u001b[49m\u001b[38;5;241;43m.\u001b[39;49m\u001b[43mheatmap\u001b[49m\u001b[43m(\u001b[49m\u001b[43mcorrelation_matrix\u001b[49m\u001b[43m,\u001b[49m\u001b[43m \u001b[49m\u001b[43mannot\u001b[49m\u001b[38;5;241;43m=\u001b[39;49m\u001b[38;5;28;43;01mTrue\u001b[39;49;00m\u001b[43m,\u001b[49m\u001b[43m \u001b[49m\u001b[43mcmap\u001b[49m\u001b[38;5;241;43m=\u001b[39;49m\u001b[38;5;124;43m'\u001b[39;49m\u001b[38;5;124;43mcoolwarm\u001b[39;49m\u001b[38;5;124;43m'\u001b[39;49m\u001b[43m,\u001b[49m\u001b[43m \u001b[49m\u001b[43mfmt\u001b[49m\u001b[38;5;241;43m=\u001b[39;49m\u001b[38;5;124;43m'\u001b[39;49m\u001b[38;5;124;43m.2f\u001b[39;49m\u001b[38;5;124;43m'\u001b[39;49m\u001b[43m,\u001b[49m\u001b[43m \u001b[49m\u001b[43mlinewidths\u001b[49m\u001b[38;5;241;43m=\u001b[39;49m\u001b[38;5;241;43m0.5\u001b[39;49m\u001b[43m)\u001b[49m\n\u001b[0;32m     13\u001b[0m plt\u001b[38;5;241m.\u001b[39mtitle(\u001b[38;5;124m'\u001b[39m\u001b[38;5;124mMapa de Correlación de Variables Numéricas\u001b[39m\u001b[38;5;124m'\u001b[39m)\n\u001b[0;32m     14\u001b[0m plt\u001b[38;5;241m.\u001b[39mshow()\n",
      "File \u001b[1;32mc:\\Users\\mglez\\AppData\\Local\\Programs\\Python\\Python311\\Lib\\site-packages\\seaborn\\matrix.py:446\u001b[0m, in \u001b[0;36mheatmap\u001b[1;34m(data, vmin, vmax, cmap, center, robust, annot, fmt, annot_kws, linewidths, linecolor, cbar, cbar_kws, cbar_ax, square, xticklabels, yticklabels, mask, ax, **kwargs)\u001b[0m\n\u001b[0;32m    365\u001b[0m \u001b[38;5;250m\u001b[39m\u001b[38;5;124;03m\"\"\"Plot rectangular data as a color-encoded matrix.\u001b[39;00m\n\u001b[0;32m    366\u001b[0m \n\u001b[0;32m    367\u001b[0m \u001b[38;5;124;03mThis is an Axes-level function and will draw the heatmap into the\u001b[39;00m\n\u001b[1;32m   (...)\u001b[0m\n\u001b[0;32m    443\u001b[0m \n\u001b[0;32m    444\u001b[0m \u001b[38;5;124;03m\"\"\"\u001b[39;00m\n\u001b[0;32m    445\u001b[0m \u001b[38;5;66;03m# Initialize the plotter object\u001b[39;00m\n\u001b[1;32m--> 446\u001b[0m plotter \u001b[38;5;241m=\u001b[39m \u001b[43m_HeatMapper\u001b[49m\u001b[43m(\u001b[49m\u001b[43mdata\u001b[49m\u001b[43m,\u001b[49m\u001b[43m \u001b[49m\u001b[43mvmin\u001b[49m\u001b[43m,\u001b[49m\u001b[43m \u001b[49m\u001b[43mvmax\u001b[49m\u001b[43m,\u001b[49m\u001b[43m \u001b[49m\u001b[43mcmap\u001b[49m\u001b[43m,\u001b[49m\u001b[43m \u001b[49m\u001b[43mcenter\u001b[49m\u001b[43m,\u001b[49m\u001b[43m \u001b[49m\u001b[43mrobust\u001b[49m\u001b[43m,\u001b[49m\u001b[43m \u001b[49m\u001b[43mannot\u001b[49m\u001b[43m,\u001b[49m\u001b[43m \u001b[49m\u001b[43mfmt\u001b[49m\u001b[43m,\u001b[49m\n\u001b[0;32m    447\u001b[0m \u001b[43m                      \u001b[49m\u001b[43mannot_kws\u001b[49m\u001b[43m,\u001b[49m\u001b[43m \u001b[49m\u001b[43mcbar\u001b[49m\u001b[43m,\u001b[49m\u001b[43m \u001b[49m\u001b[43mcbar_kws\u001b[49m\u001b[43m,\u001b[49m\u001b[43m \u001b[49m\u001b[43mxticklabels\u001b[49m\u001b[43m,\u001b[49m\n\u001b[0;32m    448\u001b[0m \u001b[43m                      \u001b[49m\u001b[43myticklabels\u001b[49m\u001b[43m,\u001b[49m\u001b[43m \u001b[49m\u001b[43mmask\u001b[49m\u001b[43m)\u001b[49m\n\u001b[0;32m    450\u001b[0m \u001b[38;5;66;03m# Add the pcolormesh kwargs here\u001b[39;00m\n\u001b[0;32m    451\u001b[0m kwargs[\u001b[38;5;124m\"\u001b[39m\u001b[38;5;124mlinewidths\u001b[39m\u001b[38;5;124m\"\u001b[39m] \u001b[38;5;241m=\u001b[39m linewidths\n",
      "File \u001b[1;32mc:\\Users\\mglez\\AppData\\Local\\Programs\\Python\\Python311\\Lib\\site-packages\\seaborn\\matrix.py:163\u001b[0m, in \u001b[0;36m_HeatMapper.__init__\u001b[1;34m(self, data, vmin, vmax, cmap, center, robust, annot, fmt, annot_kws, cbar, cbar_kws, xticklabels, yticklabels, mask)\u001b[0m\n\u001b[0;32m    160\u001b[0m \u001b[38;5;28mself\u001b[39m\u001b[38;5;241m.\u001b[39mylabel \u001b[38;5;241m=\u001b[39m ylabel \u001b[38;5;28;01mif\u001b[39;00m ylabel \u001b[38;5;129;01mis\u001b[39;00m \u001b[38;5;129;01mnot\u001b[39;00m \u001b[38;5;28;01mNone\u001b[39;00m \u001b[38;5;28;01melse\u001b[39;00m \u001b[38;5;124m\"\u001b[39m\u001b[38;5;124m\"\u001b[39m\n\u001b[0;32m    162\u001b[0m \u001b[38;5;66;03m# Determine good default values for the colormapping\u001b[39;00m\n\u001b[1;32m--> 163\u001b[0m \u001b[38;5;28;43mself\u001b[39;49m\u001b[38;5;241;43m.\u001b[39;49m\u001b[43m_determine_cmap_params\u001b[49m\u001b[43m(\u001b[49m\u001b[43mplot_data\u001b[49m\u001b[43m,\u001b[49m\u001b[43m \u001b[49m\u001b[43mvmin\u001b[49m\u001b[43m,\u001b[49m\u001b[43m \u001b[49m\u001b[43mvmax\u001b[49m\u001b[43m,\u001b[49m\n\u001b[0;32m    164\u001b[0m \u001b[43m                            \u001b[49m\u001b[43mcmap\u001b[49m\u001b[43m,\u001b[49m\u001b[43m \u001b[49m\u001b[43mcenter\u001b[49m\u001b[43m,\u001b[49m\u001b[43m \u001b[49m\u001b[43mrobust\u001b[49m\u001b[43m)\u001b[49m\n\u001b[0;32m    166\u001b[0m \u001b[38;5;66;03m# Sort out the annotations\u001b[39;00m\n\u001b[0;32m    167\u001b[0m \u001b[38;5;28;01mif\u001b[39;00m annot \u001b[38;5;129;01mis\u001b[39;00m \u001b[38;5;28;01mNone\u001b[39;00m \u001b[38;5;129;01mor\u001b[39;00m annot \u001b[38;5;129;01mis\u001b[39;00m \u001b[38;5;28;01mFalse\u001b[39;00m:\n",
      "File \u001b[1;32mc:\\Users\\mglez\\AppData\\Local\\Programs\\Python\\Python311\\Lib\\site-packages\\seaborn\\matrix.py:202\u001b[0m, in \u001b[0;36m_HeatMapper._determine_cmap_params\u001b[1;34m(self, plot_data, vmin, vmax, cmap, center, robust)\u001b[0m\n\u001b[0;32m    200\u001b[0m         vmin \u001b[38;5;241m=\u001b[39m np\u001b[38;5;241m.\u001b[39mnanpercentile(calc_data, \u001b[38;5;241m2\u001b[39m)\n\u001b[0;32m    201\u001b[0m     \u001b[38;5;28;01melse\u001b[39;00m:\n\u001b[1;32m--> 202\u001b[0m         vmin \u001b[38;5;241m=\u001b[39m \u001b[43mnp\u001b[49m\u001b[38;5;241;43m.\u001b[39;49m\u001b[43mnanmin\u001b[49m\u001b[43m(\u001b[49m\u001b[43mcalc_data\u001b[49m\u001b[43m)\u001b[49m\n\u001b[0;32m    203\u001b[0m \u001b[38;5;28;01mif\u001b[39;00m vmax \u001b[38;5;129;01mis\u001b[39;00m \u001b[38;5;28;01mNone\u001b[39;00m:\n\u001b[0;32m    204\u001b[0m     \u001b[38;5;28;01mif\u001b[39;00m robust:\n",
      "File \u001b[1;32mc:\\Users\\mglez\\AppData\\Local\\Programs\\Python\\Python311\\Lib\\site-packages\\numpy\\lib\\nanfunctions.py:343\u001b[0m, in \u001b[0;36mnanmin\u001b[1;34m(a, axis, out, keepdims, initial, where)\u001b[0m\n\u001b[0;32m    338\u001b[0m     kwargs[\u001b[38;5;124m'\u001b[39m\u001b[38;5;124mwhere\u001b[39m\u001b[38;5;124m'\u001b[39m] \u001b[38;5;241m=\u001b[39m where\n\u001b[0;32m    340\u001b[0m \u001b[38;5;28;01mif\u001b[39;00m \u001b[38;5;28mtype\u001b[39m(a) \u001b[38;5;129;01mis\u001b[39;00m np\u001b[38;5;241m.\u001b[39mndarray \u001b[38;5;129;01mand\u001b[39;00m a\u001b[38;5;241m.\u001b[39mdtype \u001b[38;5;241m!=\u001b[39m np\u001b[38;5;241m.\u001b[39mobject_:\n\u001b[0;32m    341\u001b[0m     \u001b[38;5;66;03m# Fast, but not safe for subclasses of ndarray, or object arrays,\u001b[39;00m\n\u001b[0;32m    342\u001b[0m     \u001b[38;5;66;03m# which do not implement isnan (gh-9009), or fmin correctly (gh-8975)\u001b[39;00m\n\u001b[1;32m--> 343\u001b[0m     res \u001b[38;5;241m=\u001b[39m \u001b[43mnp\u001b[49m\u001b[38;5;241;43m.\u001b[39;49m\u001b[43mfmin\u001b[49m\u001b[38;5;241;43m.\u001b[39;49m\u001b[43mreduce\u001b[49m\u001b[43m(\u001b[49m\u001b[43ma\u001b[49m\u001b[43m,\u001b[49m\u001b[43m \u001b[49m\u001b[43maxis\u001b[49m\u001b[38;5;241;43m=\u001b[39;49m\u001b[43maxis\u001b[49m\u001b[43m,\u001b[49m\u001b[43m \u001b[49m\u001b[43mout\u001b[49m\u001b[38;5;241;43m=\u001b[39;49m\u001b[43mout\u001b[49m\u001b[43m,\u001b[49m\u001b[43m \u001b[49m\u001b[38;5;241;43m*\u001b[39;49m\u001b[38;5;241;43m*\u001b[39;49m\u001b[43mkwargs\u001b[49m\u001b[43m)\u001b[49m\n\u001b[0;32m    344\u001b[0m     \u001b[38;5;28;01mif\u001b[39;00m np\u001b[38;5;241m.\u001b[39misnan(res)\u001b[38;5;241m.\u001b[39many():\n\u001b[0;32m    345\u001b[0m         warnings\u001b[38;5;241m.\u001b[39mwarn(\u001b[38;5;124m\"\u001b[39m\u001b[38;5;124mAll-NaN slice encountered\u001b[39m\u001b[38;5;124m\"\u001b[39m, \u001b[38;5;167;01mRuntimeWarning\u001b[39;00m,\n\u001b[0;32m    346\u001b[0m                       stacklevel\u001b[38;5;241m=\u001b[39m\u001b[38;5;241m2\u001b[39m)\n",
      "\u001b[1;31mValueError\u001b[0m: zero-size array to reduction operation fmin which has no identity"
     ]
    },
    {
     "data": {
      "text/plain": [
       "<Figure size 1000x800 with 0 Axes>"
      ]
     },
     "metadata": {},
     "output_type": "display_data"
    }
   ],
   "source": [
    "# Convertir nombres de columnas a minúsculas y eliminar espacios (opcional pero recomendable)\n",
    "df.columns = df.columns.str.strip().str.lower()\n",
    "\n",
    "# Seleccionar solo las columnas numéricas para calcular la correlación\n",
    "numeric_columns = df.select_dtypes(include=['int64', 'float64'])\n",
    "\n",
    "# Calcular la matriz de correlación\n",
    "correlation_matrix = numeric_columns.corr()\n",
    "\n",
    "# Visualizar el mapa de correlación usando seaborn\n",
    "plt.figure(figsize=(10, 8))\n",
    "sns.heatmap(correlation_matrix, annot=True, cmap='coolwarm', fmt='.2f', linewidths=0.5)\n",
    "plt.title('Mapa de Correlación de Variables Numéricas')\n",
    "plt.show()\n"
   ]
  },
  {
   "cell_type": "code",
   "execution_count": null,
   "metadata": {},
   "outputs": [],
   "source": []
  }
 ],
 "metadata": {
  "kernelspec": {
   "display_name": "Python 3",
   "language": "python",
   "name": "python3"
  },
  "language_info": {
   "codemirror_mode": {
    "name": "ipython",
    "version": 3
   },
   "file_extension": ".py",
   "mimetype": "text/x-python",
   "name": "python",
   "nbconvert_exporter": "python",
   "pygments_lexer": "ipython3",
   "version": "3.11.8"
  }
 },
 "nbformat": 4,
 "nbformat_minor": 2
}
